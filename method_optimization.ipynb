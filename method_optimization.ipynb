{
 "cells": [
  {
   "cell_type": "code",
   "execution_count": 31,
   "metadata": {},
   "outputs": [],
   "source": [
    "import pandas as pd\n",
    "import snf\n",
    "import numpy as np\n",
    "from sklearn import cluster\n",
    "import seaborn as sns\n",
    "import matplotlib.pyplot as plt\n",
    "from sklearn.decomposition import PCA\n",
    "from sklearn.manifold import TSNE\n",
    "from sklearn.cluster import AgglomerativeClustering\n",
    "from sklearn.preprocessing import MinMaxScaler\n",
    "from datetime import datetime\n",
    "from sklearn.preprocessing import LabelEncoder\n",
    "from scipy import stats\n",
    "import matplotlib.pyplot as plt\n",
    "from sklearn.cluster import HDBSCAN\n",
    "from matplotlib.pyplot import cm\n",
    "from sklearn.metrics import calinski_harabasz_score\n",
    "from sklearn.metrics import davies_bouldin_score\n",
    "from sklearn.metrics import silhouette_score\n",
    "from tableone import TableOne\n",
    "import plotly.graph_objects as go\n",
    "import plotly.subplots as sp"
   ]
  },
  {
   "cell_type": "code",
   "execution_count": 32,
   "metadata": {},
   "outputs": [],
   "source": [
    "def calculate_clustering_scores(X, labels):\n",
    "    if len(set(labels)) > 1: \n",
    "        ch_score = calinski_harabasz_score(X, labels)\n",
    "        db_score = davies_bouldin_score(X, labels)\n",
    "        sil_score = silhouette_score(X, labels)\n",
    "        return ch_score, db_score, sil_score\n",
    "    else:\n",
    "        return np.nan, np.nan, np.nan  \n"
   ]
  },
  {
   "cell_type": "code",
   "execution_count": 33,
   "metadata": {},
   "outputs": [],
   "source": [
    "metrics = ['cosine'] # euclidean\n",
    "dim_red_list = ['pca', 'tsne']\n",
    "dims = list(range(2,44))\n",
    "types_input = [['cytokines', 'genera']] #['cytokines'], ['genera'],\n",
    "K = [5,10,15,20]"
   ]
  },
  {
   "cell_type": "code",
   "execution_count": 34,
   "metadata": {},
   "outputs": [],
   "source": [
    "genera = pd.read_csv('./dati/test/genera.csv', header = 0, index_col='id')\n",
    "cyto = pd.read_csv('./dati/test/cytokines.csv', header = 0, index_col='id')\n",
    "clinical_original     = pd.read_csv('./dati/test/clinical_carmen.csv', header = 0, index_col='id')\n",
    "names = clinical_original[\"id_microbio\"]\n",
    "cyto = cyto.drop([4, 23, 34])\n",
    "\n",
    "\n",
    "clinical = clinical_original.copy()\n",
    "clinical['age_category'] = clinical['age_molecular'].apply(lambda x: 1 if x < 60 else 0)\n",
    "label_encoder = LabelEncoder()\n",
    "clinical_encoded = clinical.copy()\n",
    "\n",
    "# for col in clinical.columns:\n",
    "#     clinical_encoded[col] = label_encoder.fit_transform(clinical[col].astype(str))\n",
    "# normalizer_clinical = MinMaxScaler(feature_range=(0,1))\n",
    "# normalizer_clinical.fit(clinical_encoded)\n",
    "# clinical_norm = pd.DataFrame(normalizer_clinical.transform(clinical_encoded.copy()), columns=clinical_encoded.columns)\n",
    "\n",
    "normalizer_genera = MinMaxScaler(feature_range=(0,1))\n",
    "normalizer_genera.fit(genera)\n",
    "genera_norm = pd.DataFrame(normalizer_genera.transform(genera.copy()), columns=genera.columns)\n",
    "genera_norm = genera / 2*genera.sum()\n",
    "np.fill_diagonal(genera_norm.values, 0.5)\n",
    "\n",
    "normalizer_cyto = MinMaxScaler(feature_range=(0,1))\n",
    "normalizer_cyto.fit(cyto)\n",
    "cyto_norm = pd.DataFrame(normalizer_cyto.transform(cyto.copy()), columns=cyto.columns)\n",
    "cyto_norm = cyto / 2*cyto.sum()\n",
    "np.fill_diagonal(cyto_norm.values, 0.5)"
   ]
  },
  {
   "cell_type": "code",
   "execution_count": 35,
   "metadata": {},
   "outputs": [],
   "source": [
    "results = []\n",
    "\n",
    "for type_input in types_input:\n",
    "    for metric in metrics:\n",
    "        for dim_red in dim_red_list:\n",
    "            for dim in dims:\n",
    "                for k in K:\n",
    "                \n",
    "                    # TODO: wrap in a function\n",
    "                    affinities = []\n",
    "                    for data in type_input:\n",
    "                        # if data == \"clinical_norm\":\n",
    "                        #     data_array = clinical_norm.astype(float).values\n",
    "                        #     affinity = snf.make_affinity(data_array, metric=\"jaccard\")\n",
    "                        if data == \"genera\":\n",
    "                            data_array = genera.astype(float).values\n",
    "                            affinity = snf.make_affinity(data_array, metric=metric, K=k)\n",
    "                        if data == \"cytokines\":\n",
    "                            data_array = cyto.astype(float).values\n",
    "                            affinity = snf.make_affinity(data_array, metric=metric, K=k)\n",
    "                        affinities.append(affinity)\n",
    "\n",
    "                    if len(type_input) > 1:\n",
    "                        fused = snf.snf(affinities, K=k)\n",
    "                        type_input_str = type_input[0] + ', ' + type_input[1]\n",
    "                    else:\n",
    "                        fused = affinity\n",
    "                        type_input_str = type_input[0] \n",
    "                    \n",
    "                    if dim_red == 'pca':\n",
    "                        pca = PCA(n_components=dim)\n",
    "                        data = pca.fit_transform(fused)\n",
    "                    elif dim_red == \"tsne\":\n",
    "                        tsne = TSNE(n_components=dim, random_state=42, method='exact')\n",
    "                        data = tsne.fit_transform(fused)\n",
    "\n",
    "                    hdb = HDBSCAN(min_cluster_size=3, min_samples=3, alpha=1.0, cluster_selection_method=\"leaf\", cluster_selection_epsilon=0.1)\n",
    "                    hdb.fit(data)\n",
    "                    labels = hdb.labels_\n",
    "\n",
    "                    # here plot\n",
    "                    # df = pd.DataFrame(data)\n",
    "                    # df['Cluster'] = labels\n",
    "                    # df = df.set_index(names)\n",
    "\n",
    "                    ch_score, db_score, sil_score = calculate_clustering_scores(data, labels)\n",
    "\n",
    "                    results.append([dim_red, dim, f'K={str(k)}', sil_score])\n"
   ]
  },
  {
   "cell_type": "code",
   "execution_count": 36,
   "metadata": {},
   "outputs": [
    {
     "data": {
      "text/html": [
       "<div>\n",
       "<style scoped>\n",
       "    .dataframe tbody tr th:only-of-type {\n",
       "        vertical-align: middle;\n",
       "    }\n",
       "\n",
       "    .dataframe tbody tr th {\n",
       "        vertical-align: top;\n",
       "    }\n",
       "\n",
       "    .dataframe thead th {\n",
       "        text-align: right;\n",
       "    }\n",
       "</style>\n",
       "<table border=\"1\" class=\"dataframe\">\n",
       "  <thead>\n",
       "    <tr style=\"text-align: right;\">\n",
       "      <th></th>\n",
       "      <th>Dimensionality reduction technique</th>\n",
       "      <th>Dimensions</th>\n",
       "      <th>K</th>\n",
       "      <th>Silhouette</th>\n",
       "    </tr>\n",
       "  </thead>\n",
       "  <tbody>\n",
       "    <tr>\n",
       "      <th>0</th>\n",
       "      <td>pca</td>\n",
       "      <td>2</td>\n",
       "      <td>K=5</td>\n",
       "      <td>0.179773</td>\n",
       "    </tr>\n",
       "    <tr>\n",
       "      <th>1</th>\n",
       "      <td>pca</td>\n",
       "      <td>2</td>\n",
       "      <td>K=10</td>\n",
       "      <td>0.313217</td>\n",
       "    </tr>\n",
       "    <tr>\n",
       "      <th>2</th>\n",
       "      <td>pca</td>\n",
       "      <td>2</td>\n",
       "      <td>K=15</td>\n",
       "      <td>0.360578</td>\n",
       "    </tr>\n",
       "    <tr>\n",
       "      <th>3</th>\n",
       "      <td>pca</td>\n",
       "      <td>2</td>\n",
       "      <td>K=20</td>\n",
       "      <td>0.421039</td>\n",
       "    </tr>\n",
       "    <tr>\n",
       "      <th>4</th>\n",
       "      <td>pca</td>\n",
       "      <td>3</td>\n",
       "      <td>K=5</td>\n",
       "      <td>0.281661</td>\n",
       "    </tr>\n",
       "    <tr>\n",
       "      <th>...</th>\n",
       "      <td>...</td>\n",
       "      <td>...</td>\n",
       "      <td>...</td>\n",
       "      <td>...</td>\n",
       "    </tr>\n",
       "    <tr>\n",
       "      <th>331</th>\n",
       "      <td>tsne</td>\n",
       "      <td>42</td>\n",
       "      <td>K=20</td>\n",
       "      <td>NaN</td>\n",
       "    </tr>\n",
       "    <tr>\n",
       "      <th>332</th>\n",
       "      <td>tsne</td>\n",
       "      <td>43</td>\n",
       "      <td>K=5</td>\n",
       "      <td>-0.449714</td>\n",
       "    </tr>\n",
       "    <tr>\n",
       "      <th>333</th>\n",
       "      <td>tsne</td>\n",
       "      <td>43</td>\n",
       "      <td>K=10</td>\n",
       "      <td>NaN</td>\n",
       "    </tr>\n",
       "    <tr>\n",
       "      <th>334</th>\n",
       "      <td>tsne</td>\n",
       "      <td>43</td>\n",
       "      <td>K=15</td>\n",
       "      <td>NaN</td>\n",
       "    </tr>\n",
       "    <tr>\n",
       "      <th>335</th>\n",
       "      <td>tsne</td>\n",
       "      <td>43</td>\n",
       "      <td>K=20</td>\n",
       "      <td>NaN</td>\n",
       "    </tr>\n",
       "  </tbody>\n",
       "</table>\n",
       "<p>336 rows × 4 columns</p>\n",
       "</div>"
      ],
      "text/plain": [
       "    Dimensionality reduction technique  Dimensions     K  Silhouette\n",
       "0                                  pca           2   K=5    0.179773\n",
       "1                                  pca           2  K=10    0.313217\n",
       "2                                  pca           2  K=15    0.360578\n",
       "3                                  pca           2  K=20    0.421039\n",
       "4                                  pca           3   K=5    0.281661\n",
       "..                                 ...         ...   ...         ...\n",
       "331                               tsne          42  K=20         NaN\n",
       "332                               tsne          43   K=5   -0.449714\n",
       "333                               tsne          43  K=10         NaN\n",
       "334                               tsne          43  K=15         NaN\n",
       "335                               tsne          43  K=20         NaN\n",
       "\n",
       "[336 rows x 4 columns]"
      ]
     },
     "execution_count": 36,
     "metadata": {},
     "output_type": "execute_result"
    }
   ],
   "source": [
    "results_df = pd.DataFrame(results, columns=['Dimensionality reduction technique', 'Dimensions', 'K', 'Silhouette'])\n",
    "# pd.set_option('display.max_rows', None)\n",
    "results_df.to_csv(\"./output/model_optimization.csv\")\n",
    "results_df"
   ]
  },
  {
   "cell_type": "code",
   "execution_count": 44,
   "metadata": {},
   "outputs": [
    {
     "data": {
      "application/vnd.plotly.v1+json": {
       "config": {
        "plotlyServerURL": "https://plot.ly"
       },
       "data": [
        {
         "legendgroup": "pca",
         "mode": "lines+markers",
         "name": "pca",
         "type": "scatter",
         "x": [
          2,
          3,
          4,
          5,
          6,
          7,
          8,
          9,
          10,
          11,
          12,
          13,
          14,
          15,
          16,
          17,
          18,
          19,
          20,
          21,
          22,
          23,
          24,
          25,
          26,
          27,
          28,
          29,
          30,
          31,
          32,
          33,
          34,
          35,
          36,
          37,
          38,
          39,
          40,
          41,
          42,
          43
         ],
         "xaxis": "x",
         "y": [
          0.17977258659834072,
          0.2816614272317654,
          0.2352687378177216,
          0.17875502409281718,
          0.24861458382433083,
          0.17859388581999863,
          0.17621553680288216,
          0.1153644277130873,
          0.1038863747538427,
          0.1277520428487814,
          0.14906395308162204,
          0.13124211666156274,
          0.10918670000645773,
          0.09933267258124259,
          0.10492355963866985,
          0.07836860256438977,
          0.03138010314273697,
          0.08062493333362296,
          0.07249719907217474,
          0.060556086086382944,
          0.05806434828695357,
          0.05345323668460625,
          0.02816795311156652,
          -0.009842716399223475,
          0.001949697639656437,
          -0.0016122008803263405,
          -0.0006521961872756003,
          -0.021738085413460374,
          -0.03343519978099437,
          -0.03424977091342522,
          -0.04213048878258576,
          -0.04523765033967795,
          null,
          null,
          null,
          null,
          null,
          null,
          null,
          null,
          0.0014939727637030904,
          0.0014939727637030904
         ],
         "yaxis": "y"
        },
        {
         "legendgroup": "tsne",
         "mode": "lines+markers",
         "name": "tsne",
         "type": "scatter",
         "x": [
          2,
          3,
          4,
          5,
          6,
          7,
          8,
          9,
          10,
          11,
          12,
          13,
          14,
          15,
          16,
          17,
          18,
          19,
          20,
          21,
          22,
          23,
          24,
          25,
          26,
          27,
          28,
          29,
          30,
          31,
          32,
          33,
          34,
          35,
          36,
          37,
          38,
          39,
          40,
          41,
          42,
          43
         ],
         "xaxis": "x",
         "y": [
          0.2750520706176758,
          -0.16490858793258667,
          -0.21071338653564453,
          -0.21160267293453217,
          -0.23259344696998596,
          null,
          -0.2458261251449585,
          -0.25711727142333984,
          -0.2805265188217163,
          -0.1250070035457611,
          -0.30581042170524597,
          null,
          null,
          -0.3081101179122925,
          -0.27213144302368164,
          null,
          null,
          null,
          -0.2175668478012085,
          null,
          -0.2739526927471161,
          null,
          null,
          -0.25661489367485046,
          null,
          null,
          null,
          null,
          -0.07647176086902618,
          -0.26219815015792847,
          null,
          null,
          null,
          null,
          null,
          null,
          -0.018383337184786797,
          null,
          null,
          0.07164130359888077,
          -0.054913029074668884,
          -0.44971421360969543
         ],
         "yaxis": "y"
        },
        {
         "legendgroup": "pca",
         "mode": "lines+markers",
         "name": "pca",
         "type": "scatter",
         "x": [
          2,
          3,
          4,
          5,
          6,
          7,
          8,
          9,
          10,
          11,
          12,
          13,
          14,
          15,
          16,
          17,
          18,
          19,
          20,
          21,
          22,
          23,
          24,
          25,
          26,
          27,
          28,
          29,
          30,
          31,
          32,
          33,
          34,
          35,
          36,
          37,
          38,
          39,
          40,
          41,
          42,
          43
         ],
         "xaxis": "x2",
         "y": [
          0.31321717859255355,
          0.3242503482934647,
          0.28261612871394337,
          0.2778615012711036,
          0.17781760282724132,
          0.20078760275150886,
          0.15004173641407104,
          0.16730420494352571,
          0.139154773119392,
          0.10135697635673536,
          0.09531145838123785,
          0.07960460531122605,
          0.08887847391554286,
          0.0759023412264166,
          0.058855217005501996,
          0.029160096783856507,
          0.020695440074665297,
          0.02009210456297011,
          -0.0069088507569199245,
          -0.03037802269570906,
          -0.026677603872423152,
          -0.028328243900257167,
          -0.0436869072996591,
          -0.025079445600841174,
          -0.03857667346709265,
          -0.058164874325097655,
          -0.07229333658678433,
          -0.07486045044391082,
          -0.07053108841141957,
          null,
          -0.08291303239959777,
          -0.07405945116281487,
          null,
          null,
          null,
          null,
          null,
          null,
          null,
          null,
          -0.00006691755991205587,
          -0.00006691755991205587
         ],
         "yaxis": "y2"
        },
        {
         "legendgroup": "tsne",
         "mode": "lines+markers",
         "name": "tsne",
         "type": "scatter",
         "x": [
          2,
          3,
          4,
          5,
          6,
          7,
          8,
          9,
          10,
          11,
          12,
          13,
          14,
          15,
          16,
          17,
          18,
          19,
          20,
          21,
          22,
          23,
          24,
          25,
          26,
          27,
          28,
          29,
          30,
          31,
          32,
          33,
          34,
          35,
          36,
          37,
          38,
          39,
          40,
          41,
          42,
          43
         ],
         "xaxis": "x2",
         "y": [
          0.42868414521217346,
          -0.16933907568454742,
          -0.2332044392824173,
          -0.15002503991127014,
          -0.18061871826648712,
          -0.2785986661911011,
          -0.19970457255840302,
          null,
          -0.28062424063682556,
          null,
          null,
          null,
          null,
          -0.37074387073516846,
          -0.26301154494285583,
          -0.2926422655582428,
          -0.23398849368095398,
          -0.18041262030601501,
          -0.3797120749950409,
          null,
          null,
          null,
          -0.2725052833557129,
          null,
          null,
          null,
          null,
          null,
          null,
          null,
          null,
          -0.23913855850696564,
          null,
          -0.19221529364585876,
          -0.32119476795196533,
          null,
          -0.28522488474845886,
          null,
          null,
          null,
          -0.1458142250776291,
          null
         ],
         "yaxis": "y2"
        },
        {
         "legendgroup": "pca",
         "mode": "lines+markers",
         "name": "pca",
         "type": "scatter",
         "x": [
          2,
          3,
          4,
          5,
          6,
          7,
          8,
          9,
          10,
          11,
          12,
          13,
          14,
          15,
          16,
          17,
          18,
          19,
          20,
          21,
          22,
          23,
          24,
          25,
          26,
          27,
          28,
          29,
          30,
          31,
          32,
          33,
          34,
          35,
          36,
          37,
          38,
          39,
          40,
          41,
          42,
          43
         ],
         "xaxis": "x3",
         "y": [
          0.36057840365998367,
          0.23792246662193117,
          0.2354202764919924,
          0.13619494147986996,
          0.19982442928249852,
          0.10593834127397159,
          0.12436402756325014,
          0.14900727943441539,
          0.14844622653893944,
          0.14144404198408658,
          0.12439329441508624,
          0.07146845520666138,
          0.024238843459110433,
          0.024810464129313745,
          0.042289750766284606,
          0.029964976664991004,
          0.025079137221090154,
          0.024682127012224494,
          -0.005182958486592532,
          -0.010083316903586511,
          -0.03383707281288623,
          -0.0395570760927655,
          -0.04958121019198391,
          -0.04687337256270044,
          -0.06033804025518128,
          -0.06003953830714856,
          -0.05964632713298637,
          -0.06215182714586396,
          -0.06290101288697993,
          null,
          -0.06593128404671993,
          -0.07071042677348018,
          -0.062157989010005486,
          -0.06265172022573294,
          null,
          null,
          null,
          null,
          null,
          null,
          0.000736836117314042,
          0.000736836117314042
         ],
         "yaxis": "y3"
        },
        {
         "legendgroup": "tsne",
         "mode": "lines+markers",
         "name": "tsne",
         "type": "scatter",
         "x": [
          2,
          3,
          4,
          5,
          6,
          7,
          8,
          9,
          10,
          11,
          12,
          13,
          14,
          15,
          16,
          17,
          18,
          19,
          20,
          21,
          22,
          23,
          24,
          25,
          26,
          27,
          28,
          29,
          30,
          31,
          32,
          33,
          34,
          35,
          36,
          37,
          38,
          39,
          40,
          41,
          42,
          43
         ],
         "xaxis": "x3",
         "y": [
          0.34394198656082153,
          -0.11713065952062607,
          -0.034946102648973465,
          -0.30205270648002625,
          -0.23240508139133453,
          null,
          -0.2360992431640625,
          -0.29814618825912476,
          -0.34290584921836853,
          -0.29699286818504333,
          null,
          null,
          null,
          -0.29216983914375305,
          0.05954531580209732,
          null,
          -0.23898296058177948,
          -0.37600836157798767,
          null,
          -0.23172451555728912,
          null,
          null,
          -0.19720831513404846,
          null,
          null,
          null,
          null,
          null,
          -0.010801062919199467,
          -0.37762516736984253,
          -0.48918288946151733,
          -0.25822827219963074,
          -0.32478660345077515,
          -0.2907615602016449,
          -0.32619160413742065,
          null,
          null,
          null,
          null,
          null,
          null,
          null
         ],
         "yaxis": "y3"
        },
        {
         "legendgroup": "pca",
         "mode": "lines+markers",
         "name": "pca",
         "type": "scatter",
         "x": [
          2,
          3,
          4,
          5,
          6,
          7,
          8,
          9,
          10,
          11,
          12,
          13,
          14,
          15,
          16,
          17,
          18,
          19,
          20,
          21,
          22,
          23,
          24,
          25,
          26,
          27,
          28,
          29,
          30,
          31,
          32,
          33,
          34,
          35,
          36,
          37,
          38,
          39,
          40,
          41,
          42,
          43
         ],
         "xaxis": "x4",
         "y": [
          0.42103928099619214,
          0.28658252180404453,
          0.19399737885465027,
          0.18394583890622399,
          0.09255592005631451,
          0.22536946132197339,
          0.16351350306694581,
          0.13763047288549388,
          0.13625618648904,
          0.10561569550934019,
          0.06184972762392636,
          0.06563116374780001,
          0.04716767322951026,
          0.012946021242123802,
          0.011078063886464306,
          0.005320263601072044,
          -0.00257387324328219,
          -0.01340071931375501,
          -0.01503984181056997,
          -0.01829118805939553,
          -0.031820168207645216,
          -0.038888026450992104,
          -0.05514395238321817,
          -0.05953922659010301,
          -0.055055434395124746,
          -0.06427784671694889,
          null,
          -0.05078484223293978,
          -0.055570588865439564,
          -0.06070053075721438,
          -0.060697501579083504,
          null,
          null,
          null,
          null,
          null,
          null,
          null,
          null,
          null,
          0.001076263254788435,
          0.001076263254788435
         ],
         "yaxis": "y4"
        },
        {
         "legendgroup": "tsne",
         "mode": "lines+markers",
         "name": "tsne",
         "type": "scatter",
         "x": [
          2,
          3,
          4,
          5,
          6,
          7,
          8,
          9,
          10,
          11,
          12,
          13,
          14,
          15,
          16,
          17,
          18,
          19,
          20,
          21,
          22,
          23,
          24,
          25,
          26,
          27,
          28,
          29,
          30,
          31,
          32,
          33,
          34,
          35,
          36,
          37,
          38,
          39,
          40,
          41,
          42,
          43
         ],
         "xaxis": "x4",
         "y": [
          0.3438178598880768,
          -0.11051809787750244,
          -0.09873044490814209,
          -0.15437254309654236,
          -0.10712702572345734,
          -0.3078419268131256,
          -0.34833407402038574,
          -0.19870498776435852,
          -0.294040709733963,
          null,
          -0.2878838777542114,
          null,
          -0.3602077066898346,
          -0.29514220356941223,
          -0.06693501025438309,
          -0.30594614148139954,
          -0.16643819212913513,
          null,
          -0.17145657539367676,
          null,
          -0.22737886011600494,
          null,
          null,
          null,
          -0.15997996926307678,
          -0.2706834375858307,
          null,
          null,
          null,
          null,
          -0.18625754117965698,
          -0.15681412816047668,
          -0.13067461550235748,
          -0.24085992574691772,
          null,
          null,
          null,
          null,
          null,
          null,
          null,
          null
         ],
         "yaxis": "y4"
        }
       ],
       "layout": {
        "annotations": [
         {
          "font": {
           "size": 16
          },
          "showarrow": false,
          "text": "K=5",
          "x": 0.2375,
          "xanchor": "center",
          "xref": "paper",
          "y": 1,
          "yanchor": "bottom",
          "yref": "paper"
         },
         {
          "font": {
           "size": 16
          },
          "showarrow": false,
          "text": "K=10",
          "x": 0.7625,
          "xanchor": "center",
          "xref": "paper",
          "y": 1,
          "yanchor": "bottom",
          "yref": "paper"
         },
         {
          "font": {
           "size": 16
          },
          "showarrow": false,
          "text": "K=15",
          "x": 0.2375,
          "xanchor": "center",
          "xref": "paper",
          "y": 0.45,
          "yanchor": "bottom",
          "yref": "paper"
         },
         {
          "font": {
           "size": 16
          },
          "showarrow": false,
          "text": "K=20",
          "x": 0.7625,
          "xanchor": "center",
          "xref": "paper",
          "y": 0.45,
          "yanchor": "bottom",
          "yref": "paper"
         }
        ],
        "height": 1200,
        "showlegend": true,
        "template": {
         "data": {
          "bar": [
           {
            "error_x": {
             "color": "#2a3f5f"
            },
            "error_y": {
             "color": "#2a3f5f"
            },
            "marker": {
             "line": {
              "color": "#E5ECF6",
              "width": 0.5
             },
             "pattern": {
              "fillmode": "overlay",
              "size": 10,
              "solidity": 0.2
             }
            },
            "type": "bar"
           }
          ],
          "barpolar": [
           {
            "marker": {
             "line": {
              "color": "#E5ECF6",
              "width": 0.5
             },
             "pattern": {
              "fillmode": "overlay",
              "size": 10,
              "solidity": 0.2
             }
            },
            "type": "barpolar"
           }
          ],
          "carpet": [
           {
            "aaxis": {
             "endlinecolor": "#2a3f5f",
             "gridcolor": "white",
             "linecolor": "white",
             "minorgridcolor": "white",
             "startlinecolor": "#2a3f5f"
            },
            "baxis": {
             "endlinecolor": "#2a3f5f",
             "gridcolor": "white",
             "linecolor": "white",
             "minorgridcolor": "white",
             "startlinecolor": "#2a3f5f"
            },
            "type": "carpet"
           }
          ],
          "choropleth": [
           {
            "colorbar": {
             "outlinewidth": 0,
             "ticks": ""
            },
            "type": "choropleth"
           }
          ],
          "contour": [
           {
            "colorbar": {
             "outlinewidth": 0,
             "ticks": ""
            },
            "colorscale": [
             [
              0,
              "#0d0887"
             ],
             [
              0.1111111111111111,
              "#46039f"
             ],
             [
              0.2222222222222222,
              "#7201a8"
             ],
             [
              0.3333333333333333,
              "#9c179e"
             ],
             [
              0.4444444444444444,
              "#bd3786"
             ],
             [
              0.5555555555555556,
              "#d8576b"
             ],
             [
              0.6666666666666666,
              "#ed7953"
             ],
             [
              0.7777777777777778,
              "#fb9f3a"
             ],
             [
              0.8888888888888888,
              "#fdca26"
             ],
             [
              1,
              "#f0f921"
             ]
            ],
            "type": "contour"
           }
          ],
          "contourcarpet": [
           {
            "colorbar": {
             "outlinewidth": 0,
             "ticks": ""
            },
            "type": "contourcarpet"
           }
          ],
          "heatmap": [
           {
            "colorbar": {
             "outlinewidth": 0,
             "ticks": ""
            },
            "colorscale": [
             [
              0,
              "#0d0887"
             ],
             [
              0.1111111111111111,
              "#46039f"
             ],
             [
              0.2222222222222222,
              "#7201a8"
             ],
             [
              0.3333333333333333,
              "#9c179e"
             ],
             [
              0.4444444444444444,
              "#bd3786"
             ],
             [
              0.5555555555555556,
              "#d8576b"
             ],
             [
              0.6666666666666666,
              "#ed7953"
             ],
             [
              0.7777777777777778,
              "#fb9f3a"
             ],
             [
              0.8888888888888888,
              "#fdca26"
             ],
             [
              1,
              "#f0f921"
             ]
            ],
            "type": "heatmap"
           }
          ],
          "heatmapgl": [
           {
            "colorbar": {
             "outlinewidth": 0,
             "ticks": ""
            },
            "colorscale": [
             [
              0,
              "#0d0887"
             ],
             [
              0.1111111111111111,
              "#46039f"
             ],
             [
              0.2222222222222222,
              "#7201a8"
             ],
             [
              0.3333333333333333,
              "#9c179e"
             ],
             [
              0.4444444444444444,
              "#bd3786"
             ],
             [
              0.5555555555555556,
              "#d8576b"
             ],
             [
              0.6666666666666666,
              "#ed7953"
             ],
             [
              0.7777777777777778,
              "#fb9f3a"
             ],
             [
              0.8888888888888888,
              "#fdca26"
             ],
             [
              1,
              "#f0f921"
             ]
            ],
            "type": "heatmapgl"
           }
          ],
          "histogram": [
           {
            "marker": {
             "pattern": {
              "fillmode": "overlay",
              "size": 10,
              "solidity": 0.2
             }
            },
            "type": "histogram"
           }
          ],
          "histogram2d": [
           {
            "colorbar": {
             "outlinewidth": 0,
             "ticks": ""
            },
            "colorscale": [
             [
              0,
              "#0d0887"
             ],
             [
              0.1111111111111111,
              "#46039f"
             ],
             [
              0.2222222222222222,
              "#7201a8"
             ],
             [
              0.3333333333333333,
              "#9c179e"
             ],
             [
              0.4444444444444444,
              "#bd3786"
             ],
             [
              0.5555555555555556,
              "#d8576b"
             ],
             [
              0.6666666666666666,
              "#ed7953"
             ],
             [
              0.7777777777777778,
              "#fb9f3a"
             ],
             [
              0.8888888888888888,
              "#fdca26"
             ],
             [
              1,
              "#f0f921"
             ]
            ],
            "type": "histogram2d"
           }
          ],
          "histogram2dcontour": [
           {
            "colorbar": {
             "outlinewidth": 0,
             "ticks": ""
            },
            "colorscale": [
             [
              0,
              "#0d0887"
             ],
             [
              0.1111111111111111,
              "#46039f"
             ],
             [
              0.2222222222222222,
              "#7201a8"
             ],
             [
              0.3333333333333333,
              "#9c179e"
             ],
             [
              0.4444444444444444,
              "#bd3786"
             ],
             [
              0.5555555555555556,
              "#d8576b"
             ],
             [
              0.6666666666666666,
              "#ed7953"
             ],
             [
              0.7777777777777778,
              "#fb9f3a"
             ],
             [
              0.8888888888888888,
              "#fdca26"
             ],
             [
              1,
              "#f0f921"
             ]
            ],
            "type": "histogram2dcontour"
           }
          ],
          "mesh3d": [
           {
            "colorbar": {
             "outlinewidth": 0,
             "ticks": ""
            },
            "type": "mesh3d"
           }
          ],
          "parcoords": [
           {
            "line": {
             "colorbar": {
              "outlinewidth": 0,
              "ticks": ""
             }
            },
            "type": "parcoords"
           }
          ],
          "pie": [
           {
            "automargin": true,
            "type": "pie"
           }
          ],
          "scatter": [
           {
            "fillpattern": {
             "fillmode": "overlay",
             "size": 10,
             "solidity": 0.2
            },
            "type": "scatter"
           }
          ],
          "scatter3d": [
           {
            "line": {
             "colorbar": {
              "outlinewidth": 0,
              "ticks": ""
             }
            },
            "marker": {
             "colorbar": {
              "outlinewidth": 0,
              "ticks": ""
             }
            },
            "type": "scatter3d"
           }
          ],
          "scattercarpet": [
           {
            "marker": {
             "colorbar": {
              "outlinewidth": 0,
              "ticks": ""
             }
            },
            "type": "scattercarpet"
           }
          ],
          "scattergeo": [
           {
            "marker": {
             "colorbar": {
              "outlinewidth": 0,
              "ticks": ""
             }
            },
            "type": "scattergeo"
           }
          ],
          "scattergl": [
           {
            "marker": {
             "colorbar": {
              "outlinewidth": 0,
              "ticks": ""
             }
            },
            "type": "scattergl"
           }
          ],
          "scattermapbox": [
           {
            "marker": {
             "colorbar": {
              "outlinewidth": 0,
              "ticks": ""
             }
            },
            "type": "scattermapbox"
           }
          ],
          "scatterpolar": [
           {
            "marker": {
             "colorbar": {
              "outlinewidth": 0,
              "ticks": ""
             }
            },
            "type": "scatterpolar"
           }
          ],
          "scatterpolargl": [
           {
            "marker": {
             "colorbar": {
              "outlinewidth": 0,
              "ticks": ""
             }
            },
            "type": "scatterpolargl"
           }
          ],
          "scatterternary": [
           {
            "marker": {
             "colorbar": {
              "outlinewidth": 0,
              "ticks": ""
             }
            },
            "type": "scatterternary"
           }
          ],
          "surface": [
           {
            "colorbar": {
             "outlinewidth": 0,
             "ticks": ""
            },
            "colorscale": [
             [
              0,
              "#0d0887"
             ],
             [
              0.1111111111111111,
              "#46039f"
             ],
             [
              0.2222222222222222,
              "#7201a8"
             ],
             [
              0.3333333333333333,
              "#9c179e"
             ],
             [
              0.4444444444444444,
              "#bd3786"
             ],
             [
              0.5555555555555556,
              "#d8576b"
             ],
             [
              0.6666666666666666,
              "#ed7953"
             ],
             [
              0.7777777777777778,
              "#fb9f3a"
             ],
             [
              0.8888888888888888,
              "#fdca26"
             ],
             [
              1,
              "#f0f921"
             ]
            ],
            "type": "surface"
           }
          ],
          "table": [
           {
            "cells": {
             "fill": {
              "color": "#EBF0F8"
             },
             "line": {
              "color": "white"
             }
            },
            "header": {
             "fill": {
              "color": "#C8D4E3"
             },
             "line": {
              "color": "white"
             }
            },
            "type": "table"
           }
          ]
         },
         "layout": {
          "annotationdefaults": {
           "arrowcolor": "#2a3f5f",
           "arrowhead": 0,
           "arrowwidth": 1
          },
          "autotypenumbers": "strict",
          "coloraxis": {
           "colorbar": {
            "outlinewidth": 0,
            "ticks": ""
           }
          },
          "colorscale": {
           "diverging": [
            [
             0,
             "#8e0152"
            ],
            [
             0.1,
             "#c51b7d"
            ],
            [
             0.2,
             "#de77ae"
            ],
            [
             0.3,
             "#f1b6da"
            ],
            [
             0.4,
             "#fde0ef"
            ],
            [
             0.5,
             "#f7f7f7"
            ],
            [
             0.6,
             "#e6f5d0"
            ],
            [
             0.7,
             "#b8e186"
            ],
            [
             0.8,
             "#7fbc41"
            ],
            [
             0.9,
             "#4d9221"
            ],
            [
             1,
             "#276419"
            ]
           ],
           "sequential": [
            [
             0,
             "#0d0887"
            ],
            [
             0.1111111111111111,
             "#46039f"
            ],
            [
             0.2222222222222222,
             "#7201a8"
            ],
            [
             0.3333333333333333,
             "#9c179e"
            ],
            [
             0.4444444444444444,
             "#bd3786"
            ],
            [
             0.5555555555555556,
             "#d8576b"
            ],
            [
             0.6666666666666666,
             "#ed7953"
            ],
            [
             0.7777777777777778,
             "#fb9f3a"
            ],
            [
             0.8888888888888888,
             "#fdca26"
            ],
            [
             1,
             "#f0f921"
            ]
           ],
           "sequentialminus": [
            [
             0,
             "#0d0887"
            ],
            [
             0.1111111111111111,
             "#46039f"
            ],
            [
             0.2222222222222222,
             "#7201a8"
            ],
            [
             0.3333333333333333,
             "#9c179e"
            ],
            [
             0.4444444444444444,
             "#bd3786"
            ],
            [
             0.5555555555555556,
             "#d8576b"
            ],
            [
             0.6666666666666666,
             "#ed7953"
            ],
            [
             0.7777777777777778,
             "#fb9f3a"
            ],
            [
             0.8888888888888888,
             "#fdca26"
            ],
            [
             1,
             "#f0f921"
            ]
           ]
          },
          "colorway": [
           "#636efa",
           "#EF553B",
           "#00cc96",
           "#ab63fa",
           "#FFA15A",
           "#19d3f3",
           "#FF6692",
           "#B6E880",
           "#FF97FF",
           "#FECB52"
          ],
          "font": {
           "color": "#2a3f5f"
          },
          "geo": {
           "bgcolor": "white",
           "lakecolor": "white",
           "landcolor": "#E5ECF6",
           "showlakes": true,
           "showland": true,
           "subunitcolor": "white"
          },
          "hoverlabel": {
           "align": "left"
          },
          "hovermode": "closest",
          "mapbox": {
           "style": "light"
          },
          "paper_bgcolor": "white",
          "plot_bgcolor": "#E5ECF6",
          "polar": {
           "angularaxis": {
            "gridcolor": "white",
            "linecolor": "white",
            "ticks": ""
           },
           "bgcolor": "#E5ECF6",
           "radialaxis": {
            "gridcolor": "white",
            "linecolor": "white",
            "ticks": ""
           }
          },
          "scene": {
           "xaxis": {
            "backgroundcolor": "#E5ECF6",
            "gridcolor": "white",
            "gridwidth": 2,
            "linecolor": "white",
            "showbackground": true,
            "ticks": "",
            "zerolinecolor": "white"
           },
           "yaxis": {
            "backgroundcolor": "#E5ECF6",
            "gridcolor": "white",
            "gridwidth": 2,
            "linecolor": "white",
            "showbackground": true,
            "ticks": "",
            "zerolinecolor": "white"
           },
           "zaxis": {
            "backgroundcolor": "#E5ECF6",
            "gridcolor": "white",
            "gridwidth": 2,
            "linecolor": "white",
            "showbackground": true,
            "ticks": "",
            "zerolinecolor": "white"
           }
          },
          "shapedefaults": {
           "line": {
            "color": "#2a3f5f"
           }
          },
          "ternary": {
           "aaxis": {
            "gridcolor": "white",
            "linecolor": "white",
            "ticks": ""
           },
           "baxis": {
            "gridcolor": "white",
            "linecolor": "white",
            "ticks": ""
           },
           "bgcolor": "#E5ECF6",
           "caxis": {
            "gridcolor": "white",
            "linecolor": "white",
            "ticks": ""
           }
          },
          "title": {
           "x": 0.05
          },
          "xaxis": {
           "automargin": true,
           "gridcolor": "white",
           "linecolor": "white",
           "ticks": "",
           "title": {
            "standoff": 15
           },
           "zerolinecolor": "white",
           "zerolinewidth": 2
          },
          "yaxis": {
           "automargin": true,
           "gridcolor": "white",
           "linecolor": "white",
           "ticks": "",
           "title": {
            "standoff": 15
           },
           "zerolinecolor": "white",
           "zerolinewidth": 2
          }
         }
        },
        "title": {
         "text": "Silhouette Score by embedding dimension and by number of k-nearest neighbours"
        },
        "width": 1200,
        "xaxis": {
         "anchor": "y",
         "domain": [
          0,
          0.475
         ],
         "title": {
          "text": "Dimensions"
         }
        },
        "xaxis2": {
         "anchor": "y2",
         "domain": [
          0.525,
          1
         ]
        },
        "xaxis3": {
         "anchor": "y3",
         "domain": [
          0,
          0.475
         ]
        },
        "xaxis4": {
         "anchor": "y4",
         "domain": [
          0.525,
          1
         ]
        },
        "yaxis": {
         "anchor": "x",
         "domain": [
          0.55,
          1
         ],
         "range": [
          -1,
          1
         ],
         "title": {
          "text": "Silhouette"
         }
        },
        "yaxis2": {
         "anchor": "x2",
         "domain": [
          0.55,
          1
         ],
         "range": [
          -1,
          1
         ]
        },
        "yaxis3": {
         "anchor": "x3",
         "domain": [
          0,
          0.45
         ],
         "range": [
          -1,
          1
         ]
        },
        "yaxis4": {
         "anchor": "x4",
         "domain": [
          0,
          0.45
         ],
         "range": [
          -1,
          1
         ]
        }
       }
      },
      "text/html": [
       "<div>                            <div id=\"fc5c40b5-015a-473b-9bb2-6b9f3da41d51\" class=\"plotly-graph-div\" style=\"height:1200px; width:1200px;\"></div>            <script type=\"text/javascript\">                require([\"plotly\"], function(Plotly) {                    window.PLOTLYENV=window.PLOTLYENV || {};                                    if (document.getElementById(\"fc5c40b5-015a-473b-9bb2-6b9f3da41d51\")) {                    Plotly.newPlot(                        \"fc5c40b5-015a-473b-9bb2-6b9f3da41d51\",                        [{\"legendgroup\":\"pca\",\"mode\":\"lines+markers\",\"name\":\"pca\",\"x\":[2,3,4,5,6,7,8,9,10,11,12,13,14,15,16,17,18,19,20,21,22,23,24,25,26,27,28,29,30,31,32,33,34,35,36,37,38,39,40,41,42,43],\"y\":[0.17977258659834072,0.2816614272317654,0.2352687378177216,0.17875502409281718,0.24861458382433083,0.17859388581999863,0.17621553680288216,0.1153644277130873,0.1038863747538427,0.1277520428487814,0.14906395308162204,0.13124211666156274,0.10918670000645773,0.09933267258124259,0.10492355963866985,0.07836860256438977,0.03138010314273697,0.08062493333362296,0.07249719907217474,0.060556086086382944,0.05806434828695357,0.05345323668460625,0.02816795311156652,-0.009842716399223475,0.001949697639656437,-0.0016122008803263405,-0.0006521961872756003,-0.021738085413460374,-0.03343519978099437,-0.03424977091342522,-0.04213048878258576,-0.04523765033967795,null,null,null,null,null,null,null,null,0.0014939727637030904,0.0014939727637030904],\"type\":\"scatter\",\"xaxis\":\"x\",\"yaxis\":\"y\"},{\"legendgroup\":\"tsne\",\"mode\":\"lines+markers\",\"name\":\"tsne\",\"x\":[2,3,4,5,6,7,8,9,10,11,12,13,14,15,16,17,18,19,20,21,22,23,24,25,26,27,28,29,30,31,32,33,34,35,36,37,38,39,40,41,42,43],\"y\":[0.2750520706176758,-0.16490858793258667,-0.21071338653564453,-0.21160267293453217,-0.23259344696998596,null,-0.2458261251449585,-0.25711727142333984,-0.2805265188217163,-0.1250070035457611,-0.30581042170524597,null,null,-0.3081101179122925,-0.27213144302368164,null,null,null,-0.2175668478012085,null,-0.2739526927471161,null,null,-0.25661489367485046,null,null,null,null,-0.07647176086902618,-0.26219815015792847,null,null,null,null,null,null,-0.018383337184786797,null,null,0.07164130359888077,-0.054913029074668884,-0.44971421360969543],\"type\":\"scatter\",\"xaxis\":\"x\",\"yaxis\":\"y\"},{\"legendgroup\":\"pca\",\"mode\":\"lines+markers\",\"name\":\"pca\",\"x\":[2,3,4,5,6,7,8,9,10,11,12,13,14,15,16,17,18,19,20,21,22,23,24,25,26,27,28,29,30,31,32,33,34,35,36,37,38,39,40,41,42,43],\"y\":[0.31321717859255355,0.3242503482934647,0.28261612871394337,0.2778615012711036,0.17781760282724132,0.20078760275150886,0.15004173641407104,0.16730420494352571,0.139154773119392,0.10135697635673536,0.09531145838123785,0.07960460531122605,0.08887847391554286,0.0759023412264166,0.058855217005501996,0.029160096783856507,0.020695440074665297,0.02009210456297011,-0.0069088507569199245,-0.03037802269570906,-0.026677603872423152,-0.028328243900257167,-0.0436869072996591,-0.025079445600841174,-0.03857667346709265,-0.058164874325097655,-0.07229333658678433,-0.07486045044391082,-0.07053108841141957,null,-0.08291303239959777,-0.07405945116281487,null,null,null,null,null,null,null,null,-6.691755991205587e-05,-6.691755991205587e-05],\"type\":\"scatter\",\"xaxis\":\"x2\",\"yaxis\":\"y2\"},{\"legendgroup\":\"tsne\",\"mode\":\"lines+markers\",\"name\":\"tsne\",\"x\":[2,3,4,5,6,7,8,9,10,11,12,13,14,15,16,17,18,19,20,21,22,23,24,25,26,27,28,29,30,31,32,33,34,35,36,37,38,39,40,41,42,43],\"y\":[0.42868414521217346,-0.16933907568454742,-0.2332044392824173,-0.15002503991127014,-0.18061871826648712,-0.2785986661911011,-0.19970457255840302,null,-0.28062424063682556,null,null,null,null,-0.37074387073516846,-0.26301154494285583,-0.2926422655582428,-0.23398849368095398,-0.18041262030601501,-0.3797120749950409,null,null,null,-0.2725052833557129,null,null,null,null,null,null,null,null,-0.23913855850696564,null,-0.19221529364585876,-0.32119476795196533,null,-0.28522488474845886,null,null,null,-0.1458142250776291,null],\"type\":\"scatter\",\"xaxis\":\"x2\",\"yaxis\":\"y2\"},{\"legendgroup\":\"pca\",\"mode\":\"lines+markers\",\"name\":\"pca\",\"x\":[2,3,4,5,6,7,8,9,10,11,12,13,14,15,16,17,18,19,20,21,22,23,24,25,26,27,28,29,30,31,32,33,34,35,36,37,38,39,40,41,42,43],\"y\":[0.36057840365998367,0.23792246662193117,0.2354202764919924,0.13619494147986996,0.19982442928249852,0.10593834127397159,0.12436402756325014,0.14900727943441539,0.14844622653893944,0.14144404198408658,0.12439329441508624,0.07146845520666138,0.024238843459110433,0.024810464129313745,0.042289750766284606,0.029964976664991004,0.025079137221090154,0.024682127012224494,-0.005182958486592532,-0.010083316903586511,-0.03383707281288623,-0.0395570760927655,-0.04958121019198391,-0.04687337256270044,-0.06033804025518128,-0.06003953830714856,-0.05964632713298637,-0.06215182714586396,-0.06290101288697993,null,-0.06593128404671993,-0.07071042677348018,-0.062157989010005486,-0.06265172022573294,null,null,null,null,null,null,0.000736836117314042,0.000736836117314042],\"type\":\"scatter\",\"xaxis\":\"x3\",\"yaxis\":\"y3\"},{\"legendgroup\":\"tsne\",\"mode\":\"lines+markers\",\"name\":\"tsne\",\"x\":[2,3,4,5,6,7,8,9,10,11,12,13,14,15,16,17,18,19,20,21,22,23,24,25,26,27,28,29,30,31,32,33,34,35,36,37,38,39,40,41,42,43],\"y\":[0.34394198656082153,-0.11713065952062607,-0.034946102648973465,-0.30205270648002625,-0.23240508139133453,null,-0.2360992431640625,-0.29814618825912476,-0.34290584921836853,-0.29699286818504333,null,null,null,-0.29216983914375305,0.05954531580209732,null,-0.23898296058177948,-0.37600836157798767,null,-0.23172451555728912,null,null,-0.19720831513404846,null,null,null,null,null,-0.010801062919199467,-0.37762516736984253,-0.48918288946151733,-0.25822827219963074,-0.32478660345077515,-0.2907615602016449,-0.32619160413742065,null,null,null,null,null,null,null],\"type\":\"scatter\",\"xaxis\":\"x3\",\"yaxis\":\"y3\"},{\"legendgroup\":\"pca\",\"mode\":\"lines+markers\",\"name\":\"pca\",\"x\":[2,3,4,5,6,7,8,9,10,11,12,13,14,15,16,17,18,19,20,21,22,23,24,25,26,27,28,29,30,31,32,33,34,35,36,37,38,39,40,41,42,43],\"y\":[0.42103928099619214,0.28658252180404453,0.19399737885465027,0.18394583890622399,0.09255592005631451,0.22536946132197339,0.16351350306694581,0.13763047288549388,0.13625618648904,0.10561569550934019,0.06184972762392636,0.06563116374780001,0.04716767322951026,0.012946021242123802,0.011078063886464306,0.005320263601072044,-0.00257387324328219,-0.01340071931375501,-0.01503984181056997,-0.01829118805939553,-0.031820168207645216,-0.038888026450992104,-0.05514395238321817,-0.05953922659010301,-0.055055434395124746,-0.06427784671694889,null,-0.05078484223293978,-0.055570588865439564,-0.06070053075721438,-0.060697501579083504,null,null,null,null,null,null,null,null,null,0.001076263254788435,0.001076263254788435],\"type\":\"scatter\",\"xaxis\":\"x4\",\"yaxis\":\"y4\"},{\"legendgroup\":\"tsne\",\"mode\":\"lines+markers\",\"name\":\"tsne\",\"x\":[2,3,4,5,6,7,8,9,10,11,12,13,14,15,16,17,18,19,20,21,22,23,24,25,26,27,28,29,30,31,32,33,34,35,36,37,38,39,40,41,42,43],\"y\":[0.3438178598880768,-0.11051809787750244,-0.09873044490814209,-0.15437254309654236,-0.10712702572345734,-0.3078419268131256,-0.34833407402038574,-0.19870498776435852,-0.294040709733963,null,-0.2878838777542114,null,-0.3602077066898346,-0.29514220356941223,-0.06693501025438309,-0.30594614148139954,-0.16643819212913513,null,-0.17145657539367676,null,-0.22737886011600494,null,null,null,-0.15997996926307678,-0.2706834375858307,null,null,null,null,-0.18625754117965698,-0.15681412816047668,-0.13067461550235748,-0.24085992574691772,null,null,null,null,null,null,null,null],\"type\":\"scatter\",\"xaxis\":\"x4\",\"yaxis\":\"y4\"}],                        {\"template\":{\"data\":{\"histogram2dcontour\":[{\"type\":\"histogram2dcontour\",\"colorbar\":{\"outlinewidth\":0,\"ticks\":\"\"},\"colorscale\":[[0.0,\"#0d0887\"],[0.1111111111111111,\"#46039f\"],[0.2222222222222222,\"#7201a8\"],[0.3333333333333333,\"#9c179e\"],[0.4444444444444444,\"#bd3786\"],[0.5555555555555556,\"#d8576b\"],[0.6666666666666666,\"#ed7953\"],[0.7777777777777778,\"#fb9f3a\"],[0.8888888888888888,\"#fdca26\"],[1.0,\"#f0f921\"]]}],\"choropleth\":[{\"type\":\"choropleth\",\"colorbar\":{\"outlinewidth\":0,\"ticks\":\"\"}}],\"histogram2d\":[{\"type\":\"histogram2d\",\"colorbar\":{\"outlinewidth\":0,\"ticks\":\"\"},\"colorscale\":[[0.0,\"#0d0887\"],[0.1111111111111111,\"#46039f\"],[0.2222222222222222,\"#7201a8\"],[0.3333333333333333,\"#9c179e\"],[0.4444444444444444,\"#bd3786\"],[0.5555555555555556,\"#d8576b\"],[0.6666666666666666,\"#ed7953\"],[0.7777777777777778,\"#fb9f3a\"],[0.8888888888888888,\"#fdca26\"],[1.0,\"#f0f921\"]]}],\"heatmap\":[{\"type\":\"heatmap\",\"colorbar\":{\"outlinewidth\":0,\"ticks\":\"\"},\"colorscale\":[[0.0,\"#0d0887\"],[0.1111111111111111,\"#46039f\"],[0.2222222222222222,\"#7201a8\"],[0.3333333333333333,\"#9c179e\"],[0.4444444444444444,\"#bd3786\"],[0.5555555555555556,\"#d8576b\"],[0.6666666666666666,\"#ed7953\"],[0.7777777777777778,\"#fb9f3a\"],[0.8888888888888888,\"#fdca26\"],[1.0,\"#f0f921\"]]}],\"heatmapgl\":[{\"type\":\"heatmapgl\",\"colorbar\":{\"outlinewidth\":0,\"ticks\":\"\"},\"colorscale\":[[0.0,\"#0d0887\"],[0.1111111111111111,\"#46039f\"],[0.2222222222222222,\"#7201a8\"],[0.3333333333333333,\"#9c179e\"],[0.4444444444444444,\"#bd3786\"],[0.5555555555555556,\"#d8576b\"],[0.6666666666666666,\"#ed7953\"],[0.7777777777777778,\"#fb9f3a\"],[0.8888888888888888,\"#fdca26\"],[1.0,\"#f0f921\"]]}],\"contourcarpet\":[{\"type\":\"contourcarpet\",\"colorbar\":{\"outlinewidth\":0,\"ticks\":\"\"}}],\"contour\":[{\"type\":\"contour\",\"colorbar\":{\"outlinewidth\":0,\"ticks\":\"\"},\"colorscale\":[[0.0,\"#0d0887\"],[0.1111111111111111,\"#46039f\"],[0.2222222222222222,\"#7201a8\"],[0.3333333333333333,\"#9c179e\"],[0.4444444444444444,\"#bd3786\"],[0.5555555555555556,\"#d8576b\"],[0.6666666666666666,\"#ed7953\"],[0.7777777777777778,\"#fb9f3a\"],[0.8888888888888888,\"#fdca26\"],[1.0,\"#f0f921\"]]}],\"surface\":[{\"type\":\"surface\",\"colorbar\":{\"outlinewidth\":0,\"ticks\":\"\"},\"colorscale\":[[0.0,\"#0d0887\"],[0.1111111111111111,\"#46039f\"],[0.2222222222222222,\"#7201a8\"],[0.3333333333333333,\"#9c179e\"],[0.4444444444444444,\"#bd3786\"],[0.5555555555555556,\"#d8576b\"],[0.6666666666666666,\"#ed7953\"],[0.7777777777777778,\"#fb9f3a\"],[0.8888888888888888,\"#fdca26\"],[1.0,\"#f0f921\"]]}],\"mesh3d\":[{\"type\":\"mesh3d\",\"colorbar\":{\"outlinewidth\":0,\"ticks\":\"\"}}],\"scatter\":[{\"fillpattern\":{\"fillmode\":\"overlay\",\"size\":10,\"solidity\":0.2},\"type\":\"scatter\"}],\"parcoords\":[{\"type\":\"parcoords\",\"line\":{\"colorbar\":{\"outlinewidth\":0,\"ticks\":\"\"}}}],\"scatterpolargl\":[{\"type\":\"scatterpolargl\",\"marker\":{\"colorbar\":{\"outlinewidth\":0,\"ticks\":\"\"}}}],\"bar\":[{\"error_x\":{\"color\":\"#2a3f5f\"},\"error_y\":{\"color\":\"#2a3f5f\"},\"marker\":{\"line\":{\"color\":\"#E5ECF6\",\"width\":0.5},\"pattern\":{\"fillmode\":\"overlay\",\"size\":10,\"solidity\":0.2}},\"type\":\"bar\"}],\"scattergeo\":[{\"type\":\"scattergeo\",\"marker\":{\"colorbar\":{\"outlinewidth\":0,\"ticks\":\"\"}}}],\"scatterpolar\":[{\"type\":\"scatterpolar\",\"marker\":{\"colorbar\":{\"outlinewidth\":0,\"ticks\":\"\"}}}],\"histogram\":[{\"marker\":{\"pattern\":{\"fillmode\":\"overlay\",\"size\":10,\"solidity\":0.2}},\"type\":\"histogram\"}],\"scattergl\":[{\"type\":\"scattergl\",\"marker\":{\"colorbar\":{\"outlinewidth\":0,\"ticks\":\"\"}}}],\"scatter3d\":[{\"type\":\"scatter3d\",\"line\":{\"colorbar\":{\"outlinewidth\":0,\"ticks\":\"\"}},\"marker\":{\"colorbar\":{\"outlinewidth\":0,\"ticks\":\"\"}}}],\"scattermapbox\":[{\"type\":\"scattermapbox\",\"marker\":{\"colorbar\":{\"outlinewidth\":0,\"ticks\":\"\"}}}],\"scatterternary\":[{\"type\":\"scatterternary\",\"marker\":{\"colorbar\":{\"outlinewidth\":0,\"ticks\":\"\"}}}],\"scattercarpet\":[{\"type\":\"scattercarpet\",\"marker\":{\"colorbar\":{\"outlinewidth\":0,\"ticks\":\"\"}}}],\"carpet\":[{\"aaxis\":{\"endlinecolor\":\"#2a3f5f\",\"gridcolor\":\"white\",\"linecolor\":\"white\",\"minorgridcolor\":\"white\",\"startlinecolor\":\"#2a3f5f\"},\"baxis\":{\"endlinecolor\":\"#2a3f5f\",\"gridcolor\":\"white\",\"linecolor\":\"white\",\"minorgridcolor\":\"white\",\"startlinecolor\":\"#2a3f5f\"},\"type\":\"carpet\"}],\"table\":[{\"cells\":{\"fill\":{\"color\":\"#EBF0F8\"},\"line\":{\"color\":\"white\"}},\"header\":{\"fill\":{\"color\":\"#C8D4E3\"},\"line\":{\"color\":\"white\"}},\"type\":\"table\"}],\"barpolar\":[{\"marker\":{\"line\":{\"color\":\"#E5ECF6\",\"width\":0.5},\"pattern\":{\"fillmode\":\"overlay\",\"size\":10,\"solidity\":0.2}},\"type\":\"barpolar\"}],\"pie\":[{\"automargin\":true,\"type\":\"pie\"}]},\"layout\":{\"autotypenumbers\":\"strict\",\"colorway\":[\"#636efa\",\"#EF553B\",\"#00cc96\",\"#ab63fa\",\"#FFA15A\",\"#19d3f3\",\"#FF6692\",\"#B6E880\",\"#FF97FF\",\"#FECB52\"],\"font\":{\"color\":\"#2a3f5f\"},\"hovermode\":\"closest\",\"hoverlabel\":{\"align\":\"left\"},\"paper_bgcolor\":\"white\",\"plot_bgcolor\":\"#E5ECF6\",\"polar\":{\"bgcolor\":\"#E5ECF6\",\"angularaxis\":{\"gridcolor\":\"white\",\"linecolor\":\"white\",\"ticks\":\"\"},\"radialaxis\":{\"gridcolor\":\"white\",\"linecolor\":\"white\",\"ticks\":\"\"}},\"ternary\":{\"bgcolor\":\"#E5ECF6\",\"aaxis\":{\"gridcolor\":\"white\",\"linecolor\":\"white\",\"ticks\":\"\"},\"baxis\":{\"gridcolor\":\"white\",\"linecolor\":\"white\",\"ticks\":\"\"},\"caxis\":{\"gridcolor\":\"white\",\"linecolor\":\"white\",\"ticks\":\"\"}},\"coloraxis\":{\"colorbar\":{\"outlinewidth\":0,\"ticks\":\"\"}},\"colorscale\":{\"sequential\":[[0.0,\"#0d0887\"],[0.1111111111111111,\"#46039f\"],[0.2222222222222222,\"#7201a8\"],[0.3333333333333333,\"#9c179e\"],[0.4444444444444444,\"#bd3786\"],[0.5555555555555556,\"#d8576b\"],[0.6666666666666666,\"#ed7953\"],[0.7777777777777778,\"#fb9f3a\"],[0.8888888888888888,\"#fdca26\"],[1.0,\"#f0f921\"]],\"sequentialminus\":[[0.0,\"#0d0887\"],[0.1111111111111111,\"#46039f\"],[0.2222222222222222,\"#7201a8\"],[0.3333333333333333,\"#9c179e\"],[0.4444444444444444,\"#bd3786\"],[0.5555555555555556,\"#d8576b\"],[0.6666666666666666,\"#ed7953\"],[0.7777777777777778,\"#fb9f3a\"],[0.8888888888888888,\"#fdca26\"],[1.0,\"#f0f921\"]],\"diverging\":[[0,\"#8e0152\"],[0.1,\"#c51b7d\"],[0.2,\"#de77ae\"],[0.3,\"#f1b6da\"],[0.4,\"#fde0ef\"],[0.5,\"#f7f7f7\"],[0.6,\"#e6f5d0\"],[0.7,\"#b8e186\"],[0.8,\"#7fbc41\"],[0.9,\"#4d9221\"],[1,\"#276419\"]]},\"xaxis\":{\"gridcolor\":\"white\",\"linecolor\":\"white\",\"ticks\":\"\",\"title\":{\"standoff\":15},\"zerolinecolor\":\"white\",\"automargin\":true,\"zerolinewidth\":2},\"yaxis\":{\"gridcolor\":\"white\",\"linecolor\":\"white\",\"ticks\":\"\",\"title\":{\"standoff\":15},\"zerolinecolor\":\"white\",\"automargin\":true,\"zerolinewidth\":2},\"scene\":{\"xaxis\":{\"backgroundcolor\":\"#E5ECF6\",\"gridcolor\":\"white\",\"linecolor\":\"white\",\"showbackground\":true,\"ticks\":\"\",\"zerolinecolor\":\"white\",\"gridwidth\":2},\"yaxis\":{\"backgroundcolor\":\"#E5ECF6\",\"gridcolor\":\"white\",\"linecolor\":\"white\",\"showbackground\":true,\"ticks\":\"\",\"zerolinecolor\":\"white\",\"gridwidth\":2},\"zaxis\":{\"backgroundcolor\":\"#E5ECF6\",\"gridcolor\":\"white\",\"linecolor\":\"white\",\"showbackground\":true,\"ticks\":\"\",\"zerolinecolor\":\"white\",\"gridwidth\":2}},\"shapedefaults\":{\"line\":{\"color\":\"#2a3f5f\"}},\"annotationdefaults\":{\"arrowcolor\":\"#2a3f5f\",\"arrowhead\":0,\"arrowwidth\":1},\"geo\":{\"bgcolor\":\"white\",\"landcolor\":\"#E5ECF6\",\"subunitcolor\":\"white\",\"showland\":true,\"showlakes\":true,\"lakecolor\":\"white\"},\"title\":{\"x\":0.05},\"mapbox\":{\"style\":\"light\"}}},\"xaxis\":{\"anchor\":\"y\",\"domain\":[0.0,0.475],\"title\":{\"text\":\"Dimensions\"}},\"yaxis\":{\"anchor\":\"x\",\"domain\":[0.55,1.0],\"range\":[-1,1],\"title\":{\"text\":\"Silhouette\"}},\"xaxis2\":{\"anchor\":\"y2\",\"domain\":[0.525,1.0]},\"yaxis2\":{\"anchor\":\"x2\",\"domain\":[0.55,1.0],\"range\":[-1,1]},\"xaxis3\":{\"anchor\":\"y3\",\"domain\":[0.0,0.475]},\"yaxis3\":{\"anchor\":\"x3\",\"domain\":[0.0,0.45],\"range\":[-1,1]},\"xaxis4\":{\"anchor\":\"y4\",\"domain\":[0.525,1.0]},\"yaxis4\":{\"anchor\":\"x4\",\"domain\":[0.0,0.45],\"range\":[-1,1]},\"annotations\":[{\"font\":{\"size\":16},\"showarrow\":false,\"text\":\"K=5\",\"x\":0.2375,\"xanchor\":\"center\",\"xref\":\"paper\",\"y\":1.0,\"yanchor\":\"bottom\",\"yref\":\"paper\"},{\"font\":{\"size\":16},\"showarrow\":false,\"text\":\"K=10\",\"x\":0.7625,\"xanchor\":\"center\",\"xref\":\"paper\",\"y\":1.0,\"yanchor\":\"bottom\",\"yref\":\"paper\"},{\"font\":{\"size\":16},\"showarrow\":false,\"text\":\"K=15\",\"x\":0.2375,\"xanchor\":\"center\",\"xref\":\"paper\",\"y\":0.45,\"yanchor\":\"bottom\",\"yref\":\"paper\"},{\"font\":{\"size\":16},\"showarrow\":false,\"text\":\"K=20\",\"x\":0.7625,\"xanchor\":\"center\",\"xref\":\"paper\",\"y\":0.45,\"yanchor\":\"bottom\",\"yref\":\"paper\"}],\"title\":{\"text\":\"Silhouette Score by embedding dimension and by number of k-nearest neighbours\"},\"height\":1200,\"width\":1200,\"showlegend\":true},                        {\"responsive\": true}                    ).then(function(){\n",
       "                            \n",
       "var gd = document.getElementById('fc5c40b5-015a-473b-9bb2-6b9f3da41d51');\n",
       "var x = new MutationObserver(function (mutations, observer) {{\n",
       "        var display = window.getComputedStyle(gd).display;\n",
       "        if (!display || display === 'none') {{\n",
       "            console.log([gd, 'removed!']);\n",
       "            Plotly.purge(gd);\n",
       "            observer.disconnect();\n",
       "        }}\n",
       "}});\n",
       "\n",
       "// Listen for the removal of the full notebook cells\n",
       "var notebookContainer = gd.closest('#notebook-container');\n",
       "if (notebookContainer) {{\n",
       "    x.observe(notebookContainer, {childList: true});\n",
       "}}\n",
       "\n",
       "// Listen for the clearing of the current output cell\n",
       "var outputEl = gd.closest('.output');\n",
       "if (outputEl) {{\n",
       "    x.observe(outputEl, {childList: true});\n",
       "}}\n",
       "\n",
       "                        })                };                });            </script>        </div>"
      ]
     },
     "metadata": {},
     "output_type": "display_data"
    }
   ],
   "source": [
    "scores = [\"Silhouette\"] #\"Calinski-Harabasz\", ,\n",
    "# type_inputs = \"Fused Layers\"  #results_df['type_input'].unique()\n",
    "type_inputs = results_df[\"K\"].unique()\n",
    "techniques = results_df['Dimensionality reduction technique'].unique()\n",
    "\n",
    "\n",
    "# Create a function to generate the plots\n",
    "def create_plots(df, scores, type_inputs, techniques):\n",
    "    for score in scores:\n",
    "        # Create a subplot figure with 1 row and 3 columns (one for each type_input)\n",
    "        fig = sp.make_subplots(rows=2, cols=2, subplot_titles=type_inputs,  horizontal_spacing=0.05,  # Decrease horizontal spacing\n",
    "            vertical_spacing=0.1)\n",
    "        \n",
    "        # Loop over each type_input to generate subplots\n",
    "        for idx, type_input in enumerate(type_inputs):\n",
    "            df_subset = results_df[results_df['K'] == type_input]\n",
    "\n",
    "            # Add traces for each technique\n",
    "            for technique in techniques:\n",
    "                df_technique = df_subset[df_subset['Dimensionality reduction technique'] == technique]\n",
    "\n",
    "                # print(len(df_technique['Dimensions']), len(df_technique[score]))\n",
    "                row = (idx // 2) + 1\n",
    "                col = (idx % 2) + 1\n",
    "\n",
    "                # Plot the data for this technique and input type\n",
    "                fig.add_trace(go.Scatter(\n",
    "                    x=df_technique['Dimensions'],\n",
    "                    y=df_technique[score],\n",
    "                    mode='lines+markers',\n",
    "                    name=technique,\n",
    "                    legendgroup=technique,\n",
    "                ), row=row, col=col)\n",
    "\n",
    "                fig.update_yaxes(range=[-1, 1], row=row, col=col)\n",
    "\n",
    "            # Update the layout of the figure\n",
    "            fig.update_layout(\n",
    "                title=f'{score} Score by embedding dimension and by number of k-nearest neighbours',\n",
    "                xaxis_title='Dimensions',\n",
    "                yaxis_title=score,\n",
    "                height=1200,\n",
    "                width=1200,\n",
    "                showlegend=True\n",
    "            )\n",
    "\n",
    "        # # Set aspect ratio to 1 for each subplot\n",
    "        # for i in range(1, len(type_inputs) + 1):\n",
    "        #     fig.update_xaxes(scaleanchor=f'y{i}', scaleratio=1, row=(i // 2) + 1, col=(i % 2) + 1)\n",
    "        #     fig.update_yaxes(scaleanchor=f'x{i}', scaleratio=1, row=(i // 2) + 1, col=(i % 2) + 1)\n",
    "\n",
    "        # Show the figure\n",
    "        fig.show()\n",
    "\n",
    "# Call the function with the correct parameters\n",
    "create_plots(results_df, scores, type_inputs, techniques)"
   ]
  }
 ],
 "metadata": {
  "kernelspec": {
   "display_name": ".venv",
   "language": "python",
   "name": "python3"
  },
  "language_info": {
   "codemirror_mode": {
    "name": "ipython",
    "version": 3
   },
   "file_extension": ".py",
   "mimetype": "text/x-python",
   "name": "python",
   "nbconvert_exporter": "python",
   "pygments_lexer": "ipython3",
   "version": "3.10.12"
  }
 },
 "nbformat": 4,
 "nbformat_minor": 2
}
